{
 "cells": [
  {
   "cell_type": "markdown",
   "metadata": {},
   "source": [
    "# Assignment 3"
   ]
  },
  {
   "cell_type": "code",
   "execution_count": 68,
   "metadata": {
    "collapsed": false
   },
   "outputs": [
    {
     "name": "stdout",
     "output_type": "stream",
     "text": [
      "Populating the interactive namespace from numpy and matplotlib\n"
     ]
    }
   ],
   "source": [
    "from pandas import Series, DataFrame\n",
    "import pandas as pd\n",
    "%pylab inline\n",
    "\n",
    "#special packages\n",
    "import statsmodels.api as sm\n",
    "from patsy import dmatrices\n",
    "from sklearn.cross_validation import train_test_split\n",
    "from sklearn import neighbors\n",
    "from sklearn import metrics"
   ]
  },
  {
   "cell_type": "markdown",
   "metadata": {},
   "source": [
    "#### Problem 1: Read the Data\n",
    "Description: Read in the data, use a delimiter to put data in seperate columns \n",
    "Import special packages to run regression "
   ]
  },
  {
   "cell_type": "code",
   "execution_count": 24,
   "metadata": {
    "collapsed": false
   },
   "outputs": [
    {
     "data": {
      "text/html": [
       "<div>\n",
       "<table border=\"1\" class=\"dataframe\">\n",
       "  <thead>\n",
       "    <tr style=\"text-align: right;\">\n",
       "      <th></th>\n",
       "      <th>County_Name</th>\n",
       "      <th>Percent_Voting</th>\n",
       "      <th>Median_Age</th>\n",
       "      <th>Mean_Savings</th>\n",
       "      <th>PerCapita_Income</th>\n",
       "      <th>Percent_Poverty</th>\n",
       "      <th>Percent_Veterans</th>\n",
       "      <th>Percent_Female</th>\n",
       "      <th>Population_Density</th>\n",
       "      <th>Percent_NursingHome</th>\n",
       "      <th>Crime_Index</th>\n",
       "    </tr>\n",
       "  </thead>\n",
       "  <tbody>\n",
       "    <tr>\n",
       "      <th>0</th>\n",
       "      <td>Autauga, AL</td>\n",
       "      <td>30.92</td>\n",
       "      <td>31.7</td>\n",
       "      <td>57623</td>\n",
       "      <td>15768</td>\n",
       "      <td>15.2</td>\n",
       "      <td>10.74</td>\n",
       "      <td>51.41</td>\n",
       "      <td>60.4</td>\n",
       "      <td>2.36</td>\n",
       "      <td>457</td>\n",
       "    </tr>\n",
       "    <tr>\n",
       "      <th>1</th>\n",
       "      <td>Baldwin, AL</td>\n",
       "      <td>26.24</td>\n",
       "      <td>35.5</td>\n",
       "      <td>84935</td>\n",
       "      <td>16954</td>\n",
       "      <td>13.6</td>\n",
       "      <td>9.73</td>\n",
       "      <td>51.34</td>\n",
       "      <td>66.5</td>\n",
       "      <td>5.40</td>\n",
       "      <td>282</td>\n",
       "    </tr>\n",
       "    <tr>\n",
       "      <th>2</th>\n",
       "      <td>Barbour, AL</td>\n",
       "      <td>46.36</td>\n",
       "      <td>32.8</td>\n",
       "      <td>83656</td>\n",
       "      <td>15532</td>\n",
       "      <td>25.0</td>\n",
       "      <td>8.82</td>\n",
       "      <td>53.03</td>\n",
       "      <td>28.8</td>\n",
       "      <td>7.02</td>\n",
       "      <td>47</td>\n",
       "    </tr>\n",
       "    <tr>\n",
       "      <th>3</th>\n",
       "      <td>Blount, AL</td>\n",
       "      <td>32.92</td>\n",
       "      <td>34.5</td>\n",
       "      <td>61249</td>\n",
       "      <td>14820</td>\n",
       "      <td>15.0</td>\n",
       "      <td>9.67</td>\n",
       "      <td>51.15</td>\n",
       "      <td>62.4</td>\n",
       "      <td>2.36</td>\n",
       "      <td>185</td>\n",
       "    </tr>\n",
       "    <tr>\n",
       "      <th>4</th>\n",
       "      <td>Bullock, AL</td>\n",
       "      <td>67.67</td>\n",
       "      <td>31.7</td>\n",
       "      <td>75725</td>\n",
       "      <td>11120</td>\n",
       "      <td>33.0</td>\n",
       "      <td>7.08</td>\n",
       "      <td>50.76</td>\n",
       "      <td>17.6</td>\n",
       "      <td>2.91</td>\n",
       "      <td>141</td>\n",
       "    </tr>\n",
       "    <tr>\n",
       "      <th>5</th>\n",
       "      <td>Butler, AL</td>\n",
       "      <td>47.43</td>\n",
       "      <td>33.5</td>\n",
       "      <td>75887</td>\n",
       "      <td>12015</td>\n",
       "      <td>27.1</td>\n",
       "      <td>9.48</td>\n",
       "      <td>53.25</td>\n",
       "      <td>28.1</td>\n",
       "      <td>7.98</td>\n",
       "      <td>266</td>\n",
       "    </tr>\n",
       "    <tr>\n",
       "      <th>6</th>\n",
       "      <td>Calhoun, AL</td>\n",
       "      <td>38.44</td>\n",
       "      <td>32.7</td>\n",
       "      <td>76073</td>\n",
       "      <td>15162</td>\n",
       "      <td>18.0</td>\n",
       "      <td>11.95</td>\n",
       "      <td>51.66</td>\n",
       "      <td>190.8</td>\n",
       "      <td>4.81</td>\n",
       "      <td>560</td>\n",
       "    </tr>\n",
       "    <tr>\n",
       "      <th>7</th>\n",
       "      <td>Chambers, AL</td>\n",
       "      <td>45.36</td>\n",
       "      <td>34.8</td>\n",
       "      <td>40498</td>\n",
       "      <td>13887</td>\n",
       "      <td>18.8</td>\n",
       "      <td>10.52</td>\n",
       "      <td>52.77</td>\n",
       "      <td>62.1</td>\n",
       "      <td>6.15</td>\n",
       "      <td>218</td>\n",
       "    </tr>\n",
       "    <tr>\n",
       "      <th>8</th>\n",
       "      <td>Cherokee, AL</td>\n",
       "      <td>53.61</td>\n",
       "      <td>36.3</td>\n",
       "      <td>56386</td>\n",
       "      <td>13936</td>\n",
       "      <td>15.4</td>\n",
       "      <td>9.29</td>\n",
       "      <td>50.82</td>\n",
       "      <td>35.8</td>\n",
       "      <td>5.61</td>\n",
       "      <td>51</td>\n",
       "    </tr>\n",
       "    <tr>\n",
       "      <th>9</th>\n",
       "      <td>Chilton, AL</td>\n",
       "      <td>34.19</td>\n",
       "      <td>34.0</td>\n",
       "      <td>52230</td>\n",
       "      <td>14036</td>\n",
       "      <td>18.6</td>\n",
       "      <td>9.48</td>\n",
       "      <td>51.41</td>\n",
       "      <td>47.8</td>\n",
       "      <td>3.58</td>\n",
       "      <td>296</td>\n",
       "    </tr>\n",
       "  </tbody>\n",
       "</table>\n",
       "</div>"
      ],
      "text/plain": [
       "    County_Name  Percent_Voting  Median_Age  Mean_Savings  PerCapita_Income  \\\n",
       "0   Autauga, AL           30.92        31.7         57623             15768   \n",
       "1   Baldwin, AL           26.24        35.5         84935             16954   \n",
       "2   Barbour, AL           46.36        32.8         83656             15532   \n",
       "3    Blount, AL           32.92        34.5         61249             14820   \n",
       "4   Bullock, AL           67.67        31.7         75725             11120   \n",
       "5    Butler, AL           47.43        33.5         75887             12015   \n",
       "6   Calhoun, AL           38.44        32.7         76073             15162   \n",
       "7  Chambers, AL           45.36        34.8         40498             13887   \n",
       "8  Cherokee, AL           53.61        36.3         56386             13936   \n",
       "9   Chilton, AL           34.19        34.0         52230             14036   \n",
       "\n",
       "   Percent_Poverty  Percent_Veterans  Percent_Female  Population_Density  \\\n",
       "0             15.2             10.74           51.41                60.4   \n",
       "1             13.6              9.73           51.34                66.5   \n",
       "2             25.0              8.82           53.03                28.8   \n",
       "3             15.0              9.67           51.15                62.4   \n",
       "4             33.0              7.08           50.76                17.6   \n",
       "5             27.1              9.48           53.25                28.1   \n",
       "6             18.0             11.95           51.66               190.8   \n",
       "7             18.8             10.52           52.77                62.1   \n",
       "8             15.4              9.29           50.82                35.8   \n",
       "9             18.6              9.48           51.41                47.8   \n",
       "\n",
       "   Percent_NursingHome  Crime_Index  \n",
       "0                 2.36          457  \n",
       "1                 5.40          282  \n",
       "2                 7.02           47  \n",
       "3                 2.36          185  \n",
       "4                 2.91          141  \n",
       "5                 7.98          266  \n",
       "6                 4.81          560  \n",
       "7                 6.15          218  \n",
       "8                 5.61           51  \n",
       "9                 3.58          296  "
      ]
     },
     "execution_count": 24,
     "metadata": {},
     "output_type": "execute_result"
    }
   ],
   "source": [
    "clinton = pd.read_csv('http://www.stat.ufl.edu/~winner/data/clinton1.dat', delimiter='\\s\\s+',\\\n",
    "                     names=['County_Name', 'Percent_Voting', 'Median_Age','Mean_Savings','PerCapita_Income', \\\n",
    "'Percent_Poverty','Percent_Veterans', 'Percent_Female', 'Population_Density','Percent_NursingHome', 'Crime_Index'], engine='python')\n",
    "\n",
    "clinton[:10]"
   ]
  },
  {
   "cell_type": "markdown",
   "metadata": {},
   "source": [
    "#### Problem 2: Predict Percent Voting on all regressors\n",
    "Description: set up dmatrices, set up the model then fit it to find the p values. Identify 2 worst pvalues (highest pvalues)\n",
    "\n",
    "The variables 'Median_Age' and 'Crime_Index' have the worst pvalues "
   ]
  },
  {
   "cell_type": "code",
   "execution_count": 6,
   "metadata": {
    "collapsed": false
   },
   "outputs": [
    {
     "name": "stdout",
     "output_type": "stream",
     "text": [
      "                            OLS Regression Results                            \n",
      "==============================================================================\n",
      "Dep. Variable:         Percent_Voting   R-squared:                       0.327\n",
      "Model:                            OLS   Adj. R-squared:                  0.325\n",
      "Method:                 Least Squares   F-statistic:                     145.4\n",
      "Date:                Fri, 15 Apr 2016   Prob (F-statistic):          4.12e-224\n",
      "Time:                        21:24:21   Log-Likelihood:                -9576.0\n",
      "No. Observations:                2704   AIC:                         1.917e+04\n",
      "Df Residuals:                    2694   BIC:                         1.923e+04\n",
      "Df Model:                           9                                         \n",
      "Covariance Type:            nonrobust                                         \n",
      "=======================================================================================\n",
      "                          coef    std err          t      P>|t|      [95.0% Conf. Int.]\n",
      "---------------------------------------------------------------------------------------\n",
      "Intercept             -38.3094      5.818     -6.585      0.000       -49.717   -26.901\n",
      "Median_Age              0.0707      0.060      1.179      0.239        -0.047     0.188\n",
      "Mean_Savings        -3.077e-05   4.93e-06     -6.247      0.000     -4.04e-05 -2.11e-05\n",
      "PerCapita_Income        0.0002   7.42e-05      2.375      0.018      3.08e-05     0.000\n",
      "Percent_Poverty         0.7669      0.035     22.118      0.000         0.699     0.835\n",
      "Percent_Veterans        0.3088      0.087      3.554      0.000         0.138     0.479\n",
      "Percent_Female          1.1844      0.119      9.985      0.000         0.952     1.417\n",
      "Population_Density      0.0019      0.000      9.681      0.000         0.002     0.002\n",
      "Percent_NursingHome    -0.0908      0.033     -2.794      0.005        -0.155    -0.027\n",
      "Crime_Index            -0.0013      0.001     -1.469      0.142        -0.003     0.000\n",
      "==============================================================================\n",
      "Omnibus:                       22.560   Durbin-Watson:                   1.360\n",
      "Prob(Omnibus):                  0.000   Jarque-Bera (JB):               28.526\n",
      "Skew:                           0.129   Prob(JB):                     6.39e-07\n",
      "Kurtosis:                       3.432   Cond. No.                     3.62e+06\n",
      "==============================================================================\n",
      "\n",
      "Warnings:\n",
      "[1] Standard Errors assume that the covariance matrix of the errors is correctly specified.\n",
      "[2] The condition number is large, 3.62e+06. This might indicate that there are\n",
      "strong multicollinearity or other numerical problems.\n"
     ]
    }
   ],
   "source": [
    "#set up dmatrices\n",
    "y, X = dmatrices('Percent_Voting ~ Median_Age + Mean_Savings + PerCapita_Income + Percent_Poverty + \\\n",
    "Percent_Veterans + Percent_Female + Population_Density + Percent_NursingHome + Crime_Index', data = clinton, \\\n",
    "                          return_type='dataframe')\n",
    "#set up model\n",
    "model = sm.OLS(y, X)\n",
    "\n",
    "#fit model\n",
    "result = model.fit()\n",
    "print result.summary()"
   ]
  },
  {
   "cell_type": "markdown",
   "metadata": {},
   "source": [
    "#### Problem 3: Formula Creating Function\n",
    "Description: takes in a list of regressors. Creates a string called formula\n",
    "that contains \"percentVoting ~\". Iterates through the regressor list. Adds each\n",
    "regressor to the string with the appropriate punctuation. Returns the string"
   ]
  },
  {
   "cell_type": "code",
   "execution_count": 21,
   "metadata": {
    "collapsed": false
   },
   "outputs": [
    {
     "name": "stdout",
     "output_type": "stream",
     "text": [
      "Percent_Voting ~ Median_Age + Mean_Savings\n"
     ]
    }
   ],
   "source": [
    "def formula(regressorList):\n",
    "    # create string with the beginning of formula\n",
    "    formula = \"Percent_Voting ~\"\n",
    "    # iterate through regressor list\n",
    "    for i in regressorList:\n",
    "        # if it isn't the first regresssor added, add a + to the string and the regressor\n",
    "        if formula[-1] != \"~\":\n",
    "            formula = formula + \" + \" + i\n",
    "        # if the last item in the list is a ~ (first regressor added)\n",
    "        # add a space and the regressor\n",
    "        else:\n",
    "            formula = formula + \" \" + i\n",
    "    return formula\n",
    "\n",
    "print formula([\"Median_Age\",\"Mean_Savings\"])\n",
    "    "
   ]
  },
  {
   "cell_type": "markdown",
   "metadata": {},
   "source": [
    "#### Problem 4: R-Squared Computation Function\n",
    "Description: takes in a list of regressors. uses the form"
   ]
  },
  {
   "cell_type": "code",
   "execution_count": 22,
   "metadata": {
    "collapsed": false
   },
   "outputs": [
    {
     "name": "stdout",
     "output_type": "stream",
     "text": [
      "0.326900387252\n"
     ]
    }
   ],
   "source": [
    "def rsquared(regressorList):\n",
    "    # create regression formula with the function\n",
    "    regressionFormula = formula(regressorList)\n",
    "    #set up dmatrices\n",
    "    y, X = dmatrices(regressionFormula, data = clinton, return_type='dataframe')\n",
    "    #set up model\n",
    "    model = sm.OLS(y, X)\n",
    "\n",
    "    #fit model\n",
    "    result = model.fit()\n",
    "\n",
    "    return result.rsquared\n",
    "\n",
    "allRegressors = [\"Median_Age\", \"Mean_Savings\", \"PerCapita_Income\", \"Percent_Poverty\", \\\n",
    "\"Percent_Veterans\", \"Percent_Female\", \"Population_Density\", \"Percent_NursingHome\", \"Crime_Index\"]\n",
    "\n",
    "print rsquared(allRegressors)\n",
    "    "
   ]
  },
  {
   "cell_type": "markdown",
   "metadata": {},
   "source": [
    "#### Problem 5: Find the best regressor\n",
    "Description:"
   ]
  },
  {
   "cell_type": "code",
   "execution_count": null,
   "metadata": {
    "collapsed": true
   },
   "outputs": [],
   "source": []
  },
  {
   "cell_type": "markdown",
   "metadata": {},
   "source": [
    "#### Problem 6: Pick the K-best regressors\n",
    "Description:"
   ]
  },
  {
   "cell_type": "code",
   "execution_count": null,
   "metadata": {
    "collapsed": true
   },
   "outputs": [],
   "source": []
  },
  {
   "cell_type": "markdown",
   "metadata": {},
   "source": [
    "#### Problem 7: Order all regressors in the best order\n",
    "Description:\n"
   ]
  },
  {
   "cell_type": "code",
   "execution_count": null,
   "metadata": {
    "collapsed": true
   },
   "outputs": [],
   "source": []
  },
  {
   "cell_type": "markdown",
   "metadata": {},
   "source": [
    "#### Problem 8: Plot the R-squared values as regressors are added in the best order.\n",
    "Description:"
   ]
  },
  {
   "cell_type": "code",
   "execution_count": null,
   "metadata": {
    "collapsed": true
   },
   "outputs": [],
   "source": []
  },
  {
   "cell_type": "markdown",
   "metadata": {},
   "source": [
    "#### Problem 9: Create a classication target.\n",
    "Description"
   ]
  },
  {
   "cell_type": "code",
   "execution_count": 32,
   "metadata": {
    "collapsed": false
   },
   "outputs": [
    {
     "data": {
      "text/html": [
       "<div>\n",
       "<table border=\"1\" class=\"dataframe\">\n",
       "  <thead>\n",
       "    <tr style=\"text-align: right;\">\n",
       "      <th></th>\n",
       "      <th>County_Name</th>\n",
       "      <th>Percent_Voting</th>\n",
       "      <th>Median_Age</th>\n",
       "      <th>Mean_Savings</th>\n",
       "      <th>PerCapita_Income</th>\n",
       "      <th>Percent_Poverty</th>\n",
       "      <th>Percent_Veterans</th>\n",
       "      <th>Percent_Female</th>\n",
       "      <th>Population_Density</th>\n",
       "      <th>Percent_NursingHome</th>\n",
       "      <th>Crime_Index</th>\n",
       "      <th>Target</th>\n",
       "    </tr>\n",
       "  </thead>\n",
       "  <tbody>\n",
       "    <tr>\n",
       "      <th>0</th>\n",
       "      <td>Autauga, AL</td>\n",
       "      <td>30.92</td>\n",
       "      <td>31.7</td>\n",
       "      <td>57623</td>\n",
       "      <td>15768</td>\n",
       "      <td>15.2</td>\n",
       "      <td>10.74</td>\n",
       "      <td>51.41</td>\n",
       "      <td>60.4</td>\n",
       "      <td>2.36</td>\n",
       "      <td>457</td>\n",
       "      <td>0.0</td>\n",
       "    </tr>\n",
       "    <tr>\n",
       "      <th>1</th>\n",
       "      <td>Baldwin, AL</td>\n",
       "      <td>26.24</td>\n",
       "      <td>35.5</td>\n",
       "      <td>84935</td>\n",
       "      <td>16954</td>\n",
       "      <td>13.6</td>\n",
       "      <td>9.73</td>\n",
       "      <td>51.34</td>\n",
       "      <td>66.5</td>\n",
       "      <td>5.40</td>\n",
       "      <td>282</td>\n",
       "      <td>0.0</td>\n",
       "    </tr>\n",
       "    <tr>\n",
       "      <th>2</th>\n",
       "      <td>Barbour, AL</td>\n",
       "      <td>46.36</td>\n",
       "      <td>32.8</td>\n",
       "      <td>83656</td>\n",
       "      <td>15532</td>\n",
       "      <td>25.0</td>\n",
       "      <td>8.82</td>\n",
       "      <td>53.03</td>\n",
       "      <td>28.8</td>\n",
       "      <td>7.02</td>\n",
       "      <td>47</td>\n",
       "      <td>1.0</td>\n",
       "    </tr>\n",
       "    <tr>\n",
       "      <th>3</th>\n",
       "      <td>Blount, AL</td>\n",
       "      <td>32.92</td>\n",
       "      <td>34.5</td>\n",
       "      <td>61249</td>\n",
       "      <td>14820</td>\n",
       "      <td>15.0</td>\n",
       "      <td>9.67</td>\n",
       "      <td>51.15</td>\n",
       "      <td>62.4</td>\n",
       "      <td>2.36</td>\n",
       "      <td>185</td>\n",
       "      <td>0.0</td>\n",
       "    </tr>\n",
       "    <tr>\n",
       "      <th>4</th>\n",
       "      <td>Bullock, AL</td>\n",
       "      <td>67.67</td>\n",
       "      <td>31.7</td>\n",
       "      <td>75725</td>\n",
       "      <td>11120</td>\n",
       "      <td>33.0</td>\n",
       "      <td>7.08</td>\n",
       "      <td>50.76</td>\n",
       "      <td>17.6</td>\n",
       "      <td>2.91</td>\n",
       "      <td>141</td>\n",
       "      <td>1.0</td>\n",
       "    </tr>\n",
       "  </tbody>\n",
       "</table>\n",
       "</div>"
      ],
      "text/plain": [
       "   County_Name  Percent_Voting  Median_Age  Mean_Savings  PerCapita_Income  \\\n",
       "0  Autauga, AL           30.92        31.7         57623             15768   \n",
       "1  Baldwin, AL           26.24        35.5         84935             16954   \n",
       "2  Barbour, AL           46.36        32.8         83656             15532   \n",
       "3   Blount, AL           32.92        34.5         61249             14820   \n",
       "4  Bullock, AL           67.67        31.7         75725             11120   \n",
       "\n",
       "   Percent_Poverty  Percent_Veterans  Percent_Female  Population_Density  \\\n",
       "0             15.2             10.74           51.41                60.4   \n",
       "1             13.6              9.73           51.34                66.5   \n",
       "2             25.0              8.82           53.03                28.8   \n",
       "3             15.0              9.67           51.15                62.4   \n",
       "4             33.0              7.08           50.76                17.6   \n",
       "\n",
       "   Percent_NursingHome  Crime_Index  Target  \n",
       "0                 2.36          457     0.0  \n",
       "1                 5.40          282     0.0  \n",
       "2                 7.02           47     1.0  \n",
       "3                 2.36          185     0.0  \n",
       "4                 2.91          141     1.0  "
      ]
     },
     "execution_count": 32,
     "metadata": {},
     "output_type": "execute_result"
    }
   ],
   "source": [
    "#creates a column that will contain the targets, is intialized with all zeros\n",
    "clinton['Target'] = 0.0\n",
    "#create the mask to identify which of the records is a postive target or a 1\n",
    "mask = clinton['Percent_Voting'] > 40.0 \n",
    "clinton.ix[mask,'Target'] = 1.0\n",
    "clinton[:5]\n",
    "\n"
   ]
  },
  {
   "cell_type": "markdown",
   "metadata": {},
   "source": [
    "#### Problem 10: Create training and test sets.\n",
    "Description: first i created the d matrices. then transferred those values from datatales to lists. then i split up those lists"
   ]
  },
  {
   "cell_type": "code",
   "execution_count": 61,
   "metadata": {
    "collapsed": false
   },
   "outputs": [
    {
     "data": {
      "image/png": "[encoded data removed]",
      "text/plain": [
       "<matplotlib.figure.Figure at 0x11c5553d0>"
      ]
     },
     "metadata": {},
     "output_type": "display_data"
    }
   ],
   "source": [
    "#create the matrices\n",
    "Y2,X2 = dmatrices('Target~ 0+Percent_Poverty+Population_Density',clinton, return_type=\"dataframe\")\n",
    "#the code above returns type dataframe, so we need to make them lists, so we can use them\n",
    "y2 = Y2.values\n",
    "x2 = X2.values \n",
    "#plot the data, just to visualize it, not neccessary just wanted to see how it looks\n",
    "sc = scatter(clinton['Percent_Poverty'][:100],clinton['Population_Density'][:100], c=y2[:100], cmap= 'bwr')\n",
    "#setting up the training and test sets\n",
    "x2_train, x2_test, y2_train, y2_test = train_test_split(x2,y2,test_size=.3,random_state=1)\n",
    "\n",
    "\n",
    "\n"
   ]
  },
  {
   "cell_type": "markdown",
   "metadata": {},
   "source": [
    "#### Problem 11: Accuracy of classication\n",
    "Description:"
   ]
  },
  {
   "cell_type": "code",
   "execution_count": 69,
   "metadata": {
    "collapsed": false
   },
   "outputs": [
    {
     "name": "stderr",
     "output_type": "stream",
     "text": [
      "/Users/albertmata/anaconda/lib/python2.7/site-packages/ipykernel/__main__.py:4: DataConversionWarning: A column-vector y was passed when a 1d array was expected. Please change the shape of y to (n_samples, ), for example using ravel().\n"
     ]
    },
    {
     "data": {
      "text/plain": [
       "KNeighborsClassifier(algorithm='auto', leaf_size=30, metric='minkowski',\n",
       "           metric_params=None, n_jobs=1, n_neighbors=15, p=2,\n",
       "           weights='uniform')"
      ]
     },
     "execution_count": 69,
     "metadata": {},
     "output_type": "execute_result"
    }
   ],
   "source": [
    "#seting up the classifier\n",
    "model_2 = neighbors.KNeighborsClassifier(n_neighbors=15,weights=\"uniform\", p=2)\n",
    "#fitting the model to the training data\n",
    "model_2.fit(x2_train,y2_train)"
   ]
  },
  {
   "cell_type": "markdown",
   "metadata": {},
   "source": [
    "#### Problem 12: Plots and Reasons\n",
    "Description: "
   ]
  },
  {
   "cell_type": "code",
   "execution_count": null,
   "metadata": {
    "collapsed": false
   },
   "outputs": [],
   "source": []
  },
  {
   "cell_type": "code",
   "execution_count": null,
   "metadata": {
    "collapsed": true
   },
   "outputs": [],
   "source": []
  }
 ],
 "metadata": {
  "kernelspec": {
   "display_name": "Python 2",
   "language": "python",
   "name": "python2"
  },
  "language_info": {
   "codemirror_mode": {
    "name": "ipython",
    "version": 2
   },
   "file_extension": ".py",
   "mimetype": "text/x-python",
   "name": "python",
   "nbconvert_exporter": "python",
   "pygments_lexer": "ipython2",
   "version": "2.7.11"
  }
 },
 "nbformat": 4,
 "nbformat_minor": 0
}
