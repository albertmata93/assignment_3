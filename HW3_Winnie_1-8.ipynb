{
 "cells": [
  {
   "cell_type": "markdown",
   "metadata": {},
   "source": [
    "# Assignment 3"
   ]
  },
  {
   "cell_type": "markdown",
   "metadata": {},
   "source": [
    "##### Q1 Read the data\n"
   ]
  },
  {
   "cell_type": "code",
   "execution_count": 1,
   "metadata": {
    "collapsed": false
   },
   "outputs": [
    {
     "name": "stdout",
     "output_type": "stream",
     "text": [
      "Populating the interactive namespace from numpy and matplotlib\n"
     ]
    }
   ],
   "source": [
    "from pandas import Series, DataFrame\n",
    "import pandas as pd\n",
    "import statsmodels.api as sm\n",
    "from patsy import dmatrices\n",
    "%pylab inline"
   ]
  },
  {
   "cell_type": "code",
   "execution_count": 2,
   "metadata": {
    "collapsed": false
   },
   "outputs": [
    {
     "data": {
      "text/html": [
       "<div>\n",
       "<table border=\"1\" class=\"dataframe\">\n",
       "  <thead>\n",
       "    <tr style=\"text-align: right;\">\n",
       "      <th></th>\n",
       "      <th>countyName</th>\n",
       "      <th>percentVoting</th>\n",
       "      <th>medianAge</th>\n",
       "      <th>meanSavings</th>\n",
       "      <th>perCapitaIncome</th>\n",
       "      <th>percentPoverty</th>\n",
       "      <th>percentVeterans</th>\n",
       "      <th>percentFemale</th>\n",
       "      <th>populationDensity</th>\n",
       "      <th>percentNursingHomes</th>\n",
       "      <th>crimeIndex</th>\n",
       "    </tr>\n",
       "  </thead>\n",
       "  <tbody>\n",
       "    <tr>\n",
       "      <th>0</th>\n",
       "      <td>Autauga, AL</td>\n",
       "      <td>30.92</td>\n",
       "      <td>31.7</td>\n",
       "      <td>57623</td>\n",
       "      <td>15768</td>\n",
       "      <td>15.2</td>\n",
       "      <td>10.74</td>\n",
       "      <td>51.41</td>\n",
       "      <td>60.4</td>\n",
       "      <td>2.36</td>\n",
       "      <td>457</td>\n",
       "    </tr>\n",
       "    <tr>\n",
       "      <th>1</th>\n",
       "      <td>Baldwin, AL</td>\n",
       "      <td>26.24</td>\n",
       "      <td>35.5</td>\n",
       "      <td>84935</td>\n",
       "      <td>16954</td>\n",
       "      <td>13.6</td>\n",
       "      <td>9.73</td>\n",
       "      <td>51.34</td>\n",
       "      <td>66.5</td>\n",
       "      <td>5.40</td>\n",
       "      <td>282</td>\n",
       "    </tr>\n",
       "    <tr>\n",
       "      <th>2</th>\n",
       "      <td>Barbour, AL</td>\n",
       "      <td>46.36</td>\n",
       "      <td>32.8</td>\n",
       "      <td>83656</td>\n",
       "      <td>15532</td>\n",
       "      <td>25.0</td>\n",
       "      <td>8.82</td>\n",
       "      <td>53.03</td>\n",
       "      <td>28.8</td>\n",
       "      <td>7.02</td>\n",
       "      <td>47</td>\n",
       "    </tr>\n",
       "    <tr>\n",
       "      <th>3</th>\n",
       "      <td>Blount, AL</td>\n",
       "      <td>32.92</td>\n",
       "      <td>34.5</td>\n",
       "      <td>61249</td>\n",
       "      <td>14820</td>\n",
       "      <td>15.0</td>\n",
       "      <td>9.67</td>\n",
       "      <td>51.15</td>\n",
       "      <td>62.4</td>\n",
       "      <td>2.36</td>\n",
       "      <td>185</td>\n",
       "    </tr>\n",
       "    <tr>\n",
       "      <th>4</th>\n",
       "      <td>Bullock, AL</td>\n",
       "      <td>67.67</td>\n",
       "      <td>31.7</td>\n",
       "      <td>75725</td>\n",
       "      <td>11120</td>\n",
       "      <td>33.0</td>\n",
       "      <td>7.08</td>\n",
       "      <td>50.76</td>\n",
       "      <td>17.6</td>\n",
       "      <td>2.91</td>\n",
       "      <td>141</td>\n",
       "    </tr>\n",
       "    <tr>\n",
       "      <th>5</th>\n",
       "      <td>Butler, AL</td>\n",
       "      <td>47.43</td>\n",
       "      <td>33.5</td>\n",
       "      <td>75887</td>\n",
       "      <td>12015</td>\n",
       "      <td>27.1</td>\n",
       "      <td>9.48</td>\n",
       "      <td>53.25</td>\n",
       "      <td>28.1</td>\n",
       "      <td>7.98</td>\n",
       "      <td>266</td>\n",
       "    </tr>\n",
       "    <tr>\n",
       "      <th>6</th>\n",
       "      <td>Calhoun, AL</td>\n",
       "      <td>38.44</td>\n",
       "      <td>32.7</td>\n",
       "      <td>76073</td>\n",
       "      <td>15162</td>\n",
       "      <td>18.0</td>\n",
       "      <td>11.95</td>\n",
       "      <td>51.66</td>\n",
       "      <td>190.8</td>\n",
       "      <td>4.81</td>\n",
       "      <td>560</td>\n",
       "    </tr>\n",
       "    <tr>\n",
       "      <th>7</th>\n",
       "      <td>Chambers, AL</td>\n",
       "      <td>45.36</td>\n",
       "      <td>34.8</td>\n",
       "      <td>40498</td>\n",
       "      <td>13887</td>\n",
       "      <td>18.8</td>\n",
       "      <td>10.52</td>\n",
       "      <td>52.77</td>\n",
       "      <td>62.1</td>\n",
       "      <td>6.15</td>\n",
       "      <td>218</td>\n",
       "    </tr>\n",
       "    <tr>\n",
       "      <th>8</th>\n",
       "      <td>Cherokee, AL</td>\n",
       "      <td>53.61</td>\n",
       "      <td>36.3</td>\n",
       "      <td>56386</td>\n",
       "      <td>13936</td>\n",
       "      <td>15.4</td>\n",
       "      <td>9.29</td>\n",
       "      <td>50.82</td>\n",
       "      <td>35.8</td>\n",
       "      <td>5.61</td>\n",
       "      <td>51</td>\n",
       "    </tr>\n",
       "    <tr>\n",
       "      <th>9</th>\n",
       "      <td>Chilton, AL</td>\n",
       "      <td>34.19</td>\n",
       "      <td>34.0</td>\n",
       "      <td>52230</td>\n",
       "      <td>14036</td>\n",
       "      <td>18.6</td>\n",
       "      <td>9.48</td>\n",
       "      <td>51.41</td>\n",
       "      <td>47.8</td>\n",
       "      <td>3.58</td>\n",
       "      <td>296</td>\n",
       "    </tr>\n",
       "  </tbody>\n",
       "</table>\n",
       "</div>"
      ],
      "text/plain": [
       "     countyName  percentVoting  medianAge  meanSavings  perCapitaIncome  \\\n",
       "0   Autauga, AL          30.92       31.7        57623            15768   \n",
       "1   Baldwin, AL          26.24       35.5        84935            16954   \n",
       "2   Barbour, AL          46.36       32.8        83656            15532   \n",
       "3    Blount, AL          32.92       34.5        61249            14820   \n",
       "4   Bullock, AL          67.67       31.7        75725            11120   \n",
       "5    Butler, AL          47.43       33.5        75887            12015   \n",
       "6   Calhoun, AL          38.44       32.7        76073            15162   \n",
       "7  Chambers, AL          45.36       34.8        40498            13887   \n",
       "8  Cherokee, AL          53.61       36.3        56386            13936   \n",
       "9   Chilton, AL          34.19       34.0        52230            14036   \n",
       "\n",
       "   percentPoverty  percentVeterans  percentFemale  populationDensity  \\\n",
       "0            15.2            10.74          51.41               60.4   \n",
       "1            13.6             9.73          51.34               66.5   \n",
       "2            25.0             8.82          53.03               28.8   \n",
       "3            15.0             9.67          51.15               62.4   \n",
       "4            33.0             7.08          50.76               17.6   \n",
       "5            27.1             9.48          53.25               28.1   \n",
       "6            18.0            11.95          51.66              190.8   \n",
       "7            18.8            10.52          52.77               62.1   \n",
       "8            15.4             9.29          50.82               35.8   \n",
       "9            18.6             9.48          51.41               47.8   \n",
       "\n",
       "   percentNursingHomes  crimeIndex  \n",
       "0                 2.36         457  \n",
       "1                 5.40         282  \n",
       "2                 7.02          47  \n",
       "3                 2.36         185  \n",
       "4                 2.91         141  \n",
       "5                 7.98         266  \n",
       "6                 4.81         560  \n",
       "7                 6.15         218  \n",
       "8                 5.61          51  \n",
       "9                 3.58         296  "
      ]
     },
     "execution_count": 2,
     "metadata": {},
     "output_type": "execute_result"
    }
   ],
   "source": [
    "clinton = pd.read_csv('http://www.stat.ufl.edu/~winner/data/clinton1.dat', sep='\\s\\s+',\n",
    "                      names=['countyName','percentVoting', 'medianAge', \\\n",
    "                             'meanSavings', 'perCapitaIncome', 'percentPoverty', 'percentVeterans', \\\n",
    "                             'percentFemale', 'populationDensity', 'percentNursingHomes', \\\n",
    "                             'crimeIndex'], engine = 'python')\n",
    "clinton[:10]"
   ]
  },
  {
   "cell_type": "markdown",
   "metadata": {},
   "source": [
    "#### </i>Q2 Predict percent Voting on all Regressors<i>"
   ]
  },
  {
   "cell_type": "code",
   "execution_count": 3,
   "metadata": {
    "collapsed": false
   },
   "outputs": [
    {
     "name": "stdout",
     "output_type": "stream",
     "text": [
      "The two worst p-values are for Median Age and Crime Index(per capita)\n",
      "\n",
      "\n",
      "                            OLS Regression Results                            \n",
      "==============================================================================\n",
      "Dep. Variable:          percentVoting   R-squared:                       0.327\n",
      "Model:                            OLS   Adj. R-squared:                  0.325\n",
      "Method:                 Least Squares   F-statistic:                     145.4\n",
      "Date:                Sat, 16 Apr 2016   Prob (F-statistic):          4.12e-224\n",
      "Time:                        23:26:18   Log-Likelihood:                -9576.0\n",
      "No. Observations:                2704   AIC:                         1.917e+04\n",
      "Df Residuals:                    2694   BIC:                         1.923e+04\n",
      "Df Model:                           9                                         \n",
      "Covariance Type:            nonrobust                                         \n",
      "=======================================================================================\n",
      "                          coef    std err          t      P>|t|      [95.0% Conf. Int.]\n",
      "---------------------------------------------------------------------------------------\n",
      "Intercept             -38.3094      5.818     -6.585      0.000       -49.717   -26.901\n",
      "medianAge               0.0707      0.060      1.179      0.239        -0.047     0.188\n",
      "meanSavings         -3.077e-05   4.93e-06     -6.247      0.000     -4.04e-05 -2.11e-05\n",
      "perCapitaIncome         0.0002   7.42e-05      2.375      0.018      3.08e-05     0.000\n",
      "percentPoverty          0.7669      0.035     22.118      0.000         0.699     0.835\n",
      "percentVeterans         0.3088      0.087      3.554      0.000         0.138     0.479\n",
      "percentFemale           1.1844      0.119      9.985      0.000         0.952     1.417\n",
      "populationDensity       0.0019      0.000      9.681      0.000         0.002     0.002\n",
      "percentNursingHomes    -0.0908      0.033     -2.794      0.005        -0.155    -0.027\n",
      "crimeIndex             -0.0013      0.001     -1.469      0.142        -0.003     0.000\n",
      "==============================================================================\n",
      "Omnibus:                       22.560   Durbin-Watson:                   1.360\n",
      "Prob(Omnibus):                  0.000   Jarque-Bera (JB):               28.526\n",
      "Skew:                           0.129   Prob(JB):                     6.39e-07\n",
      "Kurtosis:                       3.432   Cond. No.                     3.62e+06\n",
      "==============================================================================\n",
      "\n",
      "Warnings:\n",
      "[1] Standard Errors assume that the covariance matrix of the errors is correctly specified.\n",
      "[2] The condition number is large, 3.62e+06. This might indicate that there are\n",
      "strong multicollinearity or other numerical problems.\n"
     ]
    }
   ],
   "source": [
    "y, X = dmatrices('percentVoting ~ medianAge + meanSavings + perCapitaIncome + percentPoverty +\\\n",
    " percentVeterans + percentFemale + populationDensity + percentNursingHomes + crimeIndex',\\\n",
    "                 data=clinton, return_type='dataframe')\n",
    "\n",
    "model = sm.OLS(y, X)\n",
    "result = model.fit()\n",
    "print(\"The two worst p-values are for Median Age and Crime Index(per capita)\")\n",
    "print\n",
    "print\n",
    "print(result.summary())"
   ]
  },
  {
   "cell_type": "markdown",
   "metadata": {},
   "source": [
    "#### Q3 A formula-creating function"
   ]
  },
  {
   "cell_type": "code",
   "execution_count": 4,
   "metadata": {
    "collapsed": false
   },
   "outputs": [
    {
     "name": "stdout",
     "output_type": "stream",
     "text": [
      "percentVoting ~ medianAge + meanSavings + perCapitaIncome + percentPoverty + percentVeterans + percentFemale + populationDensity + percentNursingHomes + crimeIndex\n"
     ]
    }
   ],
   "source": [
    "def formula(regressorList):\n",
    "    formula = 'percentVoting ~'\n",
    "    formula += ' ' + regressorList[0]\n",
    "    if len(regressorList) >=2:\n",
    "        for i in range(1, len(regressorList)):\n",
    "            formula += ' ' + '+' + ' ' + regressorList[i] \n",
    "    return formula\n",
    "        \n",
    "regressorList = ['medianAge','meanSavings', 'perCapitaIncome', 'percentPoverty', 'percentVeterans', \\\n",
    "                 'percentFemale', 'populationDensity', 'percentNursingHomes', 'crimeIndex']\n",
    "    \n",
    "#regressorList = ['medianAge', 'meanSavings']\n",
    "print(formula(regressorList))"
   ]
  },
  {
   "cell_type": "markdown",
   "metadata": {},
   "source": [
    "#### Q4 R-squared computation function"
   ]
  },
  {
   "cell_type": "code",
   "execution_count": 5,
   "metadata": {
    "collapsed": false
   },
   "outputs": [
    {
     "name": "stdout",
     "output_type": "stream",
     "text": [
      "0.326900387252\n"
     ]
    }
   ],
   "source": [
    "def rsquared(regressorList):\n",
    "    y, X = dmatrices(formula(regressorList), data=clinton, return_type='dataframe')\n",
    "    model = sm.OLS(y, X)\n",
    "    result = model.fit()\n",
    "    return(result.rsquared)\n",
    "print rsquared(regressorList)\n",
    "\n",
    "\n"
   ]
  },
  {
   "cell_type": "markdown",
   "metadata": {},
   "source": [
    "#### Q5 Find the next best regressor"
   ]
  },
  {
   "cell_type": "code",
   "execution_count": 16,
   "metadata": {
    "collapsed": false
   },
   "outputs": [
    {
     "name": "stdout",
     "output_type": "stream",
     "text": [
      "Original R-Squared:  0.317003721453\n",
      "Best Next Regressor:  (0.32636121791160388, 'meanSavings')\n"
     ]
    }
   ],
   "source": [
    "def best_next_regressor(current_regressor_list, all_regressors_list):\n",
    "    best_R2 = rsquared(current_regressor_list)\n",
    "    best_set = current_regressor_list\n",
    "    for i in all_regressors_list:\n",
    "        if i not in current_regressor_list:\n",
    "            regressor = []\n",
    "            regressor.append(i)\n",
    "            newSet = current_regressor_list + regressor\n",
    "            newR2 = rsquared(newSet)\n",
    "          \n",
    "            if newR2 >= best_R2:\n",
    "                best_R2 = newR2\n",
    "                best_set = newSet\n",
    "                best_regressor = newSet[-1]\n",
    "    return best_R2, best_regressor\n",
    "\n",
    "current_regressor_list = ['medianAge', 'perCapitaIncome', 'percentPoverty', 'percentVeterans', \\\n",
    "                 'percentFemale', 'populationDensity', 'percentNursingHomes']\n",
    "all_regressors_list = regressorList\n",
    "\n",
    "print 'Original R-Squared: ', rsquared(current_regressor_list)\n",
    "print 'Best Next Regressor: ', best_next_regressor(current_regressor_list, all_regressors_list)"
   ]
  },
  {
   "cell_type": "markdown",
   "metadata": {
    "collapsed": true
   },
   "source": [
    "#### Q6 Pick the k best regressors"
   ]
  },
  {
   "cell_type": "code",
   "execution_count": 19,
   "metadata": {
    "collapsed": false
   },
   "outputs": [
    {
     "name": "stdout",
     "output_type": "stream",
     "text": [
      "(['percentPoverty', 'populationDensity', 'percentFemale', 'meanSavings', 'percentVeterans'], [0.25103851961631962, 0.30914506632485794, 0.31924118502370502, 0.32299256887291694, 0.32485127138693681])\n"
     ]
    }
   ],
   "source": [
    "def best_regressors(num_regressors, all_regressors_list):\n",
    "    bestR2 = 0\n",
    "    bestReg = ''\n",
    "    for x in all_regressors_list:\n",
    "    \tx = [x]\n",
    "        xR2 = rsquared(x) \n",
    "    \tif xR2 >= bestR2:\n",
    "    \t\tbestR2 = xR2\n",
    "    \t\tbestReg = x\n",
    "    listRegressors = bestReg\n",
    "    listR2 = [bestR2]\n",
    "    for i in range(num_regressors-1):\n",
    "    \tlistRegressors.append(best_next_regressor(listRegressors, all_regressors_list)[1])\n",
    "    \tlistR2.append(best_next_regressor(listRegressors, all_regressors_list)[0]) \n",
    "    return listRegressors, listR2\n",
    "num_regressors = 5\n",
    "all_regressors_list = regressorList\n",
    "print best_regressors(num_regressors, all_regressors_list)\n",
    "\n"
   ]
  },
  {
   "cell_type": "markdown",
   "metadata": {},
   "source": [
    "#### Q7 Order all regressors in the best order"
   ]
  },
  {
   "cell_type": "code",
   "execution_count": 34,
   "metadata": {
    "collapsed": false
   },
   "outputs": [
    {
     "name": "stdout",
     "output_type": "stream",
     "text": [
      "['percentPoverty', 'populationDensity', 'percentFemale', 'meanSavings', 'percentVeterans', 'percentNursingHomes', 'perCapitaIncome', 'crimeIndex', 'medianAge']\n"
     ]
    }
   ],
   "source": [
    "num_regressors = len(all_regressors_list)\n",
    "bestList = best_regressors(num_regressors-1, all_regressors_list)[0]\n",
    "for i in all_regressors_list:\n",
    "    if i not in bestList:\n",
    "        bestList.append(i)\n",
    "print bestList"
   ]
  },
  {
   "cell_type": "markdown",
   "metadata": {},
   "source": [
    "#### Q8 Plot the R-squared values as regressors are added in the best order."
   ]
  },
  {
   "cell_type": "code",
   "execution_count": null,
   "metadata": {
    "collapsed": true
   },
   "outputs": [],
   "source": []
  },
  {
   "cell_type": "code",
   "execution_count": 38,
   "metadata": {
    "collapsed": false
   },
   "outputs": [
    {
     "name": "stdout",
     "output_type": "stream",
     "text": [
      "[0.25103851961631962, 0.30914506632485794, 0.31924118502370502, 0.32299256887291694, 0.32485127138693681, 0.32582492389958873, 0.32655325570492555, 0.32690038725174042, 0.32690038725174042]\n",
      "[1, 2, 3, 4, 5, 6, 7, 8, 9]\n"
     ]
    },
    {
     "data": {
      "text/plain": [
       "<matplotlib.text.Text at 0x10bd3bf50>"
      ]
     },
     "execution_count": 38,
     "metadata": {},
     "output_type": "execute_result"
    },
    {
     "data": {
      "image/png": "[encoded data removed]",
      "text/plain": [
       "<matplotlib.figure.Figure at 0x10bd50050>"
      ]
     },
     "metadata": {},
     "output_type": "display_data"
    }
   ],
   "source": [
    "num_regressors = len(all_regressors_list)\n",
    "best = best_regressors(num_regressors-1, all_regressors_list)[1]\n",
    "best.append(result.rsquared)\n",
    "print best\n",
    "x = []\n",
    "for z in range(num_regressors):\n",
    "    x.append(z+1)\n",
    "print x\n",
    "plot(x, best, color='red', linewidth=2, label='haha')\n",
    "xlabel('# of Regressors')\n",
    "ylabel('R-Squared')"
   ]
  },
  {
   "cell_type": "code",
   "execution_count": null,
   "metadata": {
    "collapsed": true
   },
   "outputs": [],
   "source": []
  }
 ],
 "metadata": {
  "kernelspec": {
   "display_name": "Python 2",
   "language": "python",
   "name": "python2"
  },
  "language_info": {
   "codemirror_mode": {
    "name": "ipython",
    "version": 2
   },
   "file_extension": ".py",
   "mimetype": "text/x-python",
   "name": "python",
   "nbconvert_exporter": "python",
   "pygments_lexer": "ipython2",
   "version": "2.7.11"
  }
 },
 "nbformat": 4,
 "nbformat_minor": 0
}
